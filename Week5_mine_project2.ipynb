{
  "nbformat": 4,
  "nbformat_minor": 0,
  "metadata": {
    "colab": {
      "private_outputs": true,
      "provenance": []
    },
    "kernelspec": {
      "name": "python3",
      "display_name": "Python 3"
    },
    "language_info": {
      "name": "python"
    }
  },
  "cells": [
    {
      "cell_type": "markdown",
      "source": [
        "# Import libraries"
      ],
      "metadata": {
        "id": "KPEOM0W7rz3S"
      }
    },
    {
      "cell_type": "code",
      "execution_count": null,
      "metadata": {
        "id": "riOWuZtPrTMk"
      },
      "outputs": [],
      "source": [
        "import numpy as np\n",
        "from tensorflow.keras.models import Sequential\n",
        "from tensorflow.keras.layers import LSTM,GRU, Dense ,Dropout\n",
        "import pandas as pd\n",
        "from matplotlib import pyplot as plt\n",
        "from sklearn.preprocessing import StandardScaler\n",
        "import seaborn as sns"
      ]
    },
    {
      "cell_type": "markdown",
      "source": [
        "# loading the dataset"
      ],
      "metadata": {
        "id": "rfBXurxjr1wz"
      }
    },
    {
      "cell_type": "code",
      "source": [
        "df = pd.read_csv('/content/traffic_volume.csv')"
      ],
      "metadata": {
        "id": "VVgpyr74roww"
      },
      "execution_count": null,
      "outputs": []
    },
    {
      "cell_type": "markdown",
      "source": [
        "# Exploratory Data Analysis (EDA)"
      ],
      "metadata": {
        "id": "Y2dgwnBJsrnE"
      }
    },
    {
      "cell_type": "code",
      "source": [
        "df"
      ],
      "metadata": {
        "id": "jW30NhzMsogY"
      },
      "execution_count": null,
      "outputs": []
    },
    {
      "cell_type": "code",
      "source": [
        "df.info()"
      ],
      "metadata": {
        "id": "gYSIN9uYsyn5"
      },
      "execution_count": null,
      "outputs": []
    },
    {
      "cell_type": "code",
      "source": [
        "df.describe()"
      ],
      "metadata": {
        "collapsed": true,
        "id": "JVf1j8V4s0pj"
      },
      "execution_count": null,
      "outputs": []
    },
    {
      "cell_type": "code",
      "source": [
        "df.isnull().sum()"
      ],
      "metadata": {
        "collapsed": true,
        "id": "uQK2c9CEs55D"
      },
      "execution_count": null,
      "outputs": []
    },
    {
      "cell_type": "code",
      "source": [
        "df_num = df[['air_pollution_index'\t,'humidity',\t'wind_speed',\t'wind_direction',\t'visibility_in_miles',\t'dew_point',\t'temperature',\t'rain_p_h',\t'snow_p_h',\t'clouds_all',\t'traffic_volume']]\n",
        "\n",
        "df_num.corr()"
      ],
      "metadata": {
        "collapsed": true,
        "id": "o-8S1t4Us_EZ"
      },
      "execution_count": null,
      "outputs": []
    },
    {
      "cell_type": "markdown",
      "source": [
        "# Data Visualization"
      ],
      "metadata": {
        "id": "9D6aapxztLv9"
      }
    },
    {
      "cell_type": "code",
      "source": [
        "plt.figure(figsize=(10,10))\n",
        "sns.heatmap(df_num.corr(), annot=True)\n",
        "plt.legend()\n",
        "plt.show()"
      ],
      "metadata": {
        "collapsed": true,
        "id": "qR5_veAXtGVT"
      },
      "execution_count": null,
      "outputs": []
    },
    {
      "cell_type": "code",
      "source": [
        "plt.figure(figsize=(25,5))\n",
        "sns.boxplot(df_num)\n",
        "plt.legend()\n",
        "plt.show()"
      ],
      "metadata": {
        "id": "foNYKAIktTE4"
      },
      "execution_count": null,
      "outputs": []
    },
    {
      "cell_type": "markdown",
      "source": [
        "# Data Preprocessing"
      ],
      "metadata": {
        "id": "r0G23GUztc8T"
      }
    },
    {
      "cell_type": "code",
      "source": [
        "df['date_time'] = pd.to_datetime(df['date_time'])"
      ],
      "metadata": {
        "id": "7Mjd3KyHtYqa"
      },
      "execution_count": null,
      "outputs": []
    },
    {
      "cell_type": "code",
      "source": [
        "df.sort_values(by ='date_time' , inplace = True)"
      ],
      "metadata": {
        "id": "QifZYiYKtlXF"
      },
      "execution_count": null,
      "outputs": []
    },
    {
      "cell_type": "code",
      "source": [
        "df.set_index('date_time', inplace=True)"
      ],
      "metadata": {
        "id": "cJn93t0nttpC"
      },
      "execution_count": null,
      "outputs": []
    },
    {
      "cell_type": "code",
      "source": [
        "from sklearn.preprocessing import LabelEncoder\n",
        "le = LabelEncoder()\n",
        "df['is_holiday'] = le.fit_transform(df['is_holiday'])\n",
        "df['weather_type'] = le.fit_transform(df['weather_type'])\n",
        "df['weather_description'] = le.fit_transform(df['weather_description'])"
      ],
      "metadata": {
        "id": "bxtHUttWt1cB"
      },
      "execution_count": null,
      "outputs": []
    },
    {
      "cell_type": "code",
      "source": [
        "def remove_outliers(df, column):\n",
        "    Q1 = df[column].quantile(0.25)\n",
        "    Q3 = df[column].quantile(0.75)\n",
        "    IQR = Q3 - Q1\n",
        "    lower_bound = Q1 - 1.5 * IQR\n",
        "    upper_bound = Q3 + 1.5 * IQR\n",
        "    return df[(df[column] >= lower_bound) & (df[column] <= upper_bound)]\n",
        "df =remove_outliers(df ,'rain_p_h')"
      ],
      "metadata": {
        "id": "ScKUenMyuOob"
      },
      "execution_count": null,
      "outputs": []
    },
    {
      "cell_type": "code",
      "source": [
        "df"
      ],
      "metadata": {
        "collapsed": true,
        "id": "K_I6vbAsutI2"
      },
      "execution_count": null,
      "outputs": []
    },
    {
      "cell_type": "markdown",
      "source": [
        "# Time Series Visualization"
      ],
      "metadata": {
        "id": "F9eOatA5vQFO"
      }
    },
    {
      "cell_type": "code",
      "source": [
        "from statsmodels.tsa.seasonal import seasonal_decompose\n",
        "decomposition = seasonal_decompose(df['traffic_volume'], model='additive', period=24)\n",
        "decomposition.plot()\n",
        "plt.show()"
      ],
      "metadata": {
        "id": "BiztfXpRu5hw"
      },
      "execution_count": null,
      "outputs": []
    },
    {
      "cell_type": "code",
      "source": [
        "sns.lineplot(x='date_time', y='traffic_volume', data=df)\n",
        "plt.title('traffic volume Over Time')\n",
        "plt.xlabel('date of time')\n",
        "plt.ylabel('traffic volume')\n",
        "plt.show()"
      ],
      "metadata": {
        "id": "h0aeNHH8vqUo"
      },
      "execution_count": null,
      "outputs": []
    },
    {
      "cell_type": "markdown",
      "source": [
        "# Train-Test Split"
      ],
      "metadata": {
        "id": "RXxu4o2DxYYj"
      }
    },
    {
      "cell_type": "code",
      "source": [
        "split = int(len(df) * 0.7)\n",
        "\n",
        "train_data = df[    :split]\n",
        "test_data = df[split:  ]"
      ],
      "metadata": {
        "id": "3UHfMTlhw0ho"
      },
      "execution_count": null,
      "outputs": []
    },
    {
      "cell_type": "code",
      "source": [
        "from sklearn.preprocessing import MinMaxScaler\n",
        "Scaler = MinMaxScaler()\n",
        "scaled_training_set = Scaler.fit_transform(train_data)\n",
        "scaled_testing_set = Scaler.fit_transform(test_data)"
      ],
      "metadata": {
        "id": "ZXcWXfAmwldI"
      },
      "execution_count": null,
      "outputs": []
    },
    {
      "cell_type": "code",
      "source": [
        "X_train = []\n",
        "y_train = []\n",
        "for i in range(30,2769):\n",
        "    X_train.append(scaled_training_set[i-30:i,0])\n",
        "    y_train.append(scaled_training_set[i,0])\n",
        "X_train, y_train = np.array(X_train), np.array(y_train)"
      ],
      "metadata": {
        "id": "9uQZaSafxAY7"
      },
      "execution_count": null,
      "outputs": []
    },
    {
      "cell_type": "code",
      "source": [
        "X_train = np.reshape(X_train, (X_train.shape[0],X_train.shape[1],1))"
      ],
      "metadata": {
        "id": "8HAJeB27xUpI"
      },
      "execution_count": null,
      "outputs": []
    },
    {
      "cell_type": "code",
      "source": [
        "X_test = []\n",
        "y_test = []\n",
        "for i in range(30,1142):\n",
        "    X_test.append(scaled_testing_set[i-30:i,0])\n",
        "    y_test.append(scaled_testing_set[i,0])\n",
        "X_test, y_test = np.array(X_test), np.array(y_test)\n",
        "X_test = np.reshape(X_test, (X_test.shape[0],X_test.shape[1],1))"
      ],
      "metadata": {
        "id": "sM8IGOHyxDSO"
      },
      "execution_count": null,
      "outputs": []
    },
    {
      "cell_type": "markdown",
      "source": [
        "# Models Selection"
      ],
      "metadata": {
        "id": "CElaBLT5xfKS"
      }
    },
    {
      "cell_type": "code",
      "source": [
        "model = Sequential([\n",
        "    LSTM(units=50, activation='relu', return_sequences=True, input_shape=(X_train.shape[1], X_train.shape[2])),\n",
        "    Dropout(0.2),\n",
        "    LSTM(units=100, activation='relu', return_sequences=True),\n",
        "    Dropout(0.2),\n",
        "    LSTM(units=200, activation='relu', return_sequences=True),\n",
        "    Dropout(0.2),\n",
        "    LSTM(units=100, activation='relu', return_sequences=True),\n",
        "    Dropout(0.2),\n",
        "    LSTM(units=50, return_sequences=False),\n",
        "    Dropout(0.2),\n",
        "    Dense(units=1)\n",
        "])\n",
        "model.summary()"
      ],
      "metadata": {
        "id": "MLp4BhavxVnv"
      },
      "execution_count": null,
      "outputs": []
    },
    {
      "cell_type": "code",
      "source": [
        "model.compile(optimizer='adam',loss='mean_squared_error')"
      ],
      "metadata": {
        "id": "QwxuutlgxqMh"
      },
      "execution_count": null,
      "outputs": []
    },
    {
      "cell_type": "code",
      "source": [
        "history=model.fit(X_train,y_train,epochs=10,batch_size=32)"
      ],
      "metadata": {
        "id": "ctGHYi3xxz3_"
      },
      "execution_count": null,
      "outputs": []
    },
    {
      "cell_type": "code",
      "source": [
        "LSYM_pred = model.predict(X_test)"
      ],
      "metadata": {
        "id": "hC26emGDx3U3"
      },
      "execution_count": null,
      "outputs": []
    },
    {
      "cell_type": "code",
      "source": [
        "from sklearn.metrics import mean_squared_error, mean_absolute_error, r2_score\n",
        "\n",
        "mse = mean_squared_error(y_test, LSYM_pred)\n",
        "rmse = np.sqrt(mse)\n",
        "mae = mean_absolute_error(y_test, LSYM_pred)\n",
        "\n",
        "print('Mean Squared Error (MSE):', mse)\n",
        "print('Root Mean Squared Error (RMSE):', rmse)\n",
        "print('Mean Absolute Error (MAE):', mae)"
      ],
      "metadata": {
        "id": "re8YORV5x70c"
      },
      "execution_count": null,
      "outputs": []
    },
    {
      "cell_type": "code",
      "source": [
        "plt.figure(figsize=(12, 6))\n",
        "plt.plot(y_test, label='Actual')\n",
        "plt.plot(LSYM_pred, label='Predicted')\n",
        "plt.title('Actual vs Predicted Values (LSTM)')\n",
        "plt.xlabel('Time')\n",
        "plt.ylabel('traffic volume')\n",
        "plt.legend()\n",
        "plt.show()"
      ],
      "metadata": {
        "id": "Q_wASCQ2yANu"
      },
      "execution_count": null,
      "outputs": []
    },
    {
      "cell_type": "code",
      "source": [
        "GRU_model = Sequential([\n",
        "    GRU(units=50, return_sequences=True, input_shape=(X_train.shape[1],1), activation='tanh'),\n",
        "    Dropout(0.2),\n",
        "    GRU(units=100, return_sequences=True),\n",
        "    Dropout(0.2),\n",
        "    GRU(units=150, return_sequences=True),\n",
        "    Dropout(0.2),\n",
        "    GRU(units=100, return_sequences=True),\n",
        "    Dropout(0.2),\n",
        "    GRU(units=50, activation='tanh'),\n",
        "    Dropout(0.2),\n",
        "    Dense(units=1)\n",
        "\n",
        "])\n",
        "GRU_model.summary()"
      ],
      "metadata": {
        "id": "KCS9PRFy1J-F"
      },
      "execution_count": null,
      "outputs": []
    },
    {
      "cell_type": "code",
      "source": [
        "GRU_model.compile(optimizer='adam',loss='mean_squared_error')\n",
        "\n",
        "GRU_model_prdiction=GRU_model.fit(X_train,y_train,epochs=10,batch_size=150)"
      ],
      "metadata": {
        "id": "rBVwratS1kQi"
      },
      "execution_count": null,
      "outputs": []
    },
    {
      "cell_type": "code",
      "source": [
        "GRU_predicted = GRU_model.predict(X_test)"
      ],
      "metadata": {
        "id": "Wb-4VDYt1oFJ"
      },
      "execution_count": null,
      "outputs": []
    },
    {
      "cell_type": "code",
      "source": [
        "mae = mean_absolute_error(y_test, GRU_predicted)\n",
        "mse = mean_squared_error(y_test, GRU_predicted)\n",
        "rmse = np.sqrt(mse)\n",
        "\n",
        "print(\"MAE:\", mae)\n",
        "print(\"MSE:\", mse)\n",
        "print(\"RMSE:\", rmse)"
      ],
      "metadata": {
        "id": "oMMjBoXc1yer"
      },
      "execution_count": null,
      "outputs": []
    },
    {
      "cell_type": "code",
      "source": [
        "plt.figure(figsize=(12, 6))\n",
        "plt.plot(y_test, label='Actual')\n",
        "plt.plot(GRU_predicted, label='Predicted')\n",
        "plt.title('Actual vs Predicted Values (GRU)')\n",
        "plt.xlabel('Time')\n",
        "plt.ylabel('traffic volume')\n",
        "plt.legend()\n",
        "plt.show()"
      ],
      "metadata": {
        "id": "ukvC1Tp215sY"
      },
      "execution_count": null,
      "outputs": []
    }
  ]
}